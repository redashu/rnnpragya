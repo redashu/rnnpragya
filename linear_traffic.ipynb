#!/usr/bin/python3
import  pandas as pd
import matplotlib.pyplot  as plt
import csv 


#  prininting  data
'''
vehicle=[]
with open('traffic.csv') as f:
	read_file=csv.reader(f,delimiter=',')
	for i in  read_file:
		if 'Date' in i:
			continue
		else :
			value=[int(i[1]),int[2]]
			vehicle.append(value)

	print(vehicle)
	
'''
# reading  from pandas 
df=pd.read_csv('traffic.csv')
print(df.iloc[0:])
